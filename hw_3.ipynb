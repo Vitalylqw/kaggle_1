{
 "cells": [
  {
   "cell_type": "markdown",
   "metadata": {},
   "source": [
    "Терминалогия, используемая в задании:\n",
    "* обучающая выборка - выборка, которая передается в метод fit / train;\n",
    "* валидационная выборка - выборка, которая получается при Hold-Out на 2 выборки (train, valid);\n",
    "* тестовая выборка - выборка, которая получается при Hold-Out на 3 выборки (train, valid, test);\n",
    "* ЛБ - лидерборд, выборка assignment_2_test.csv."
   ]
  },
  {
   "cell_type": "code",
   "execution_count": 28,
   "metadata": {},
   "outputs": [],
   "source": [
    "import numpy as np\n",
    "import pandas as pd\n",
    "import xgboost as xgb\n",
    "import matplotlib.pyplot as plt\n",
    "import missingno as msno\n",
    "import lightgbm as lgb\n",
    "import catboost as cb\n",
    "from sklearn.model_selection import train_test_split\n",
    "from sklearn import metrics\n",
    "import seaborn as sns\n",
    "from scipy.stats import probplot, ks_2samp\n",
    "import warnings\n",
    "from tqdm import tqdm\n",
    "from typing import List, Tuple\n",
    "\n",
    "from scipy.stats import ttest_rel\n",
    "\n",
    "from sklearn.metrics import r2_score, roc_auc_score\n",
    "\n",
    "from sklearn.model_selection import KFold, StratifiedKFold, train_test_split, cross_val_score\n",
    "warnings.simplefilter(\"ignore\")\n",
    "%matplotlib inline"
   ]
  },
  {
   "cell_type": "code",
   "execution_count": 51,
   "metadata": {},
   "outputs": [],
   "source": [
    "def create_bootstrap_samples(data: np.array, n_samples: int = 1000) -> np.array:\n",
    "    \"\"\"\n",
    "    Создание бутстреп-выборок.\n",
    "\n",
    "    Parameters\n",
    "    ----------\n",
    "    data: np.array\n",
    "        Исходная выборка, которая будет использоваться для\n",
    "        создания бутстреп выборок.\n",
    "\n",
    "    n_samples: int, optional, default = 1000\n",
    "        Количество создаваемых бутстреп выборок.\n",
    "        Опциональный параметр, по умолчанию, равен 1000.\n",
    "\n",
    "    Returns\n",
    "    -------\n",
    "    bootstrap_idx: np.array\n",
    "        Матрица индексов, для создания бутстреп выборок.\n",
    "\n",
    "    \"\"\"\n",
    "    bootstrap_idx = np.random.randint(\n",
    "        low=0, high=len(data), size=(n_samples, len(data))\n",
    "    )\n",
    "    return bootstrap_idx\n",
    "\n",
    "\n",
    "def create_bootstrap_metrics(y_true: np.array,\n",
    "                             y_pred: np.array,\n",
    "                             metric: callable,\n",
    "                             n_samlpes: int = 1000) -> List[float]:\n",
    "    \"\"\"\n",
    "    Вычисление бутстреп оценок.\n",
    "\n",
    "    Parameters\n",
    "    ----------\n",
    "    y_true: np.array\n",
    "        Вектор целевой переменной.\n",
    "\n",
    "    y_pred: np.array\n",
    "        Вектор прогнозов.\n",
    "\n",
    "    metric: callable\n",
    "        Функция для вычисления метрики.\n",
    "        Функция должна принимать 2 аргумента: y_true, y_pred.\n",
    "\n",
    "    n_samples: int, optional, default = 1000\n",
    "        Количество создаваемых бутстреп выборок.\n",
    "        Опциональный параметр, по умолчанию, равен 1000.\n",
    "\n",
    "    Returns\n",
    "    -------\n",
    "    bootstrap_metrics: List[float]\n",
    "        Список со значениями метрики качества на каждой бустреп выборке.\n",
    "\n",
    "    \"\"\"\n",
    "    scores = []\n",
    "\n",
    "    if isinstance(y_true, pd.Series):\n",
    "        y_true = y_true.values\n",
    "\n",
    "    bootstrap_idx = create_bootstrap_samples(y_true)\n",
    "    for idx in bootstrap_idx:\n",
    "        y_true_bootstrap = y_true[idx]\n",
    "        y_pred_bootstrap = y_pred[idx]\n",
    "\n",
    "        score = metric(y_true_bootstrap, y_pred_bootstrap)\n",
    "        scores.append(score)\n",
    "\n",
    "    return scores\n",
    "\n",
    "\n",
    "def calculate_confidence_interval(scores: list, conf_interval: float = 0.95) -> Tuple[float]:\n",
    "    \"\"\"\n",
    "    Вычисление доверительного интервала.\n",
    "\n",
    "    Parameters\n",
    "    ----------\n",
    "    scores: List[float / int]\n",
    "        Список с оценками изучаемой величины.\n",
    "\n",
    "    conf_interval: float, optional, default = 0.95\n",
    "        Уровень доверия для построения интервала.\n",
    "        Опциональный параметр, по умолчанию, равен 0.95.\n",
    "\n",
    "    Returns\n",
    "    -------\n",
    "    conf_interval: Tuple[float]\n",
    "        Кортеж с границами доверительного интервала.\n",
    "\n",
    "    \"\"\"\n",
    "    left_bound = np.percentile(\n",
    "        scores, ((1 - conf_interval) / 2) * 100\n",
    "    )\n",
    "    right_bound = np.percentile(\n",
    "        scores, (conf_interval + ((1 - conf_interval) / 2)) * 100\n",
    "    )\n",
    "\n",
    "    return left_bound, right_bound"
   ]
  },
  {
   "cell_type": "code",
   "execution_count": 33,
   "metadata": {},
   "outputs": [],
   "source": [
    "train= pd.read_csv('train.csv')\n",
    "l_board = pd.read_csv('test.csv')"
   ]
  },
  {
   "cell_type": "code",
   "execution_count": 34,
   "metadata": {},
   "outputs": [],
   "source": [
    "train.set_index('TransactionID',inplace=True)\n",
    "l_board.set_index('TransactionID',inplace=True)"
   ]
  },
  {
   "cell_type": "code",
   "execution_count": 35,
   "metadata": {},
   "outputs": [
    {
     "data": {
      "text/html": [
       "<div>\n",
       "<style scoped>\n",
       "    .dataframe tbody tr th:only-of-type {\n",
       "        vertical-align: middle;\n",
       "    }\n",
       "\n",
       "    .dataframe tbody tr th {\n",
       "        vertical-align: top;\n",
       "    }\n",
       "\n",
       "    .dataframe thead th {\n",
       "        text-align: right;\n",
       "    }\n",
       "</style>\n",
       "<table border=\"1\" class=\"dataframe\">\n",
       "  <thead>\n",
       "    <tr style=\"text-align: right;\">\n",
       "      <th></th>\n",
       "      <th>isFraud</th>\n",
       "      <th>TransactionDT</th>\n",
       "      <th>TransactionAmt</th>\n",
       "      <th>ProductCD</th>\n",
       "      <th>card1</th>\n",
       "      <th>card2</th>\n",
       "      <th>card3</th>\n",
       "      <th>card4</th>\n",
       "      <th>card5</th>\n",
       "      <th>card6</th>\n",
       "      <th>...</th>\n",
       "      <th>V330</th>\n",
       "      <th>V331</th>\n",
       "      <th>V332</th>\n",
       "      <th>V333</th>\n",
       "      <th>V334</th>\n",
       "      <th>V335</th>\n",
       "      <th>V336</th>\n",
       "      <th>V337</th>\n",
       "      <th>V338</th>\n",
       "      <th>V339</th>\n",
       "    </tr>\n",
       "    <tr>\n",
       "      <th>TransactionID</th>\n",
       "      <th></th>\n",
       "      <th></th>\n",
       "      <th></th>\n",
       "      <th></th>\n",
       "      <th></th>\n",
       "      <th></th>\n",
       "      <th></th>\n",
       "      <th></th>\n",
       "      <th></th>\n",
       "      <th></th>\n",
       "      <th></th>\n",
       "      <th></th>\n",
       "      <th></th>\n",
       "      <th></th>\n",
       "      <th></th>\n",
       "      <th></th>\n",
       "      <th></th>\n",
       "      <th></th>\n",
       "      <th></th>\n",
       "      <th></th>\n",
       "      <th></th>\n",
       "    </tr>\n",
       "  </thead>\n",
       "  <tbody>\n",
       "    <tr>\n",
       "      <th>2987000</th>\n",
       "      <td>0</td>\n",
       "      <td>86400</td>\n",
       "      <td>68.5</td>\n",
       "      <td>W</td>\n",
       "      <td>13926</td>\n",
       "      <td>NaN</td>\n",
       "      <td>150.0</td>\n",
       "      <td>discover</td>\n",
       "      <td>142.0</td>\n",
       "      <td>credit</td>\n",
       "      <td>...</td>\n",
       "      <td>NaN</td>\n",
       "      <td>NaN</td>\n",
       "      <td>NaN</td>\n",
       "      <td>NaN</td>\n",
       "      <td>NaN</td>\n",
       "      <td>NaN</td>\n",
       "      <td>NaN</td>\n",
       "      <td>NaN</td>\n",
       "      <td>NaN</td>\n",
       "      <td>NaN</td>\n",
       "    </tr>\n",
       "    <tr>\n",
       "      <th>2987001</th>\n",
       "      <td>0</td>\n",
       "      <td>86401</td>\n",
       "      <td>29.0</td>\n",
       "      <td>W</td>\n",
       "      <td>2755</td>\n",
       "      <td>404.0</td>\n",
       "      <td>150.0</td>\n",
       "      <td>mastercard</td>\n",
       "      <td>102.0</td>\n",
       "      <td>credit</td>\n",
       "      <td>...</td>\n",
       "      <td>NaN</td>\n",
       "      <td>NaN</td>\n",
       "      <td>NaN</td>\n",
       "      <td>NaN</td>\n",
       "      <td>NaN</td>\n",
       "      <td>NaN</td>\n",
       "      <td>NaN</td>\n",
       "      <td>NaN</td>\n",
       "      <td>NaN</td>\n",
       "      <td>NaN</td>\n",
       "    </tr>\n",
       "    <tr>\n",
       "      <th>2987002</th>\n",
       "      <td>0</td>\n",
       "      <td>86469</td>\n",
       "      <td>59.0</td>\n",
       "      <td>W</td>\n",
       "      <td>4663</td>\n",
       "      <td>490.0</td>\n",
       "      <td>150.0</td>\n",
       "      <td>visa</td>\n",
       "      <td>166.0</td>\n",
       "      <td>debit</td>\n",
       "      <td>...</td>\n",
       "      <td>NaN</td>\n",
       "      <td>NaN</td>\n",
       "      <td>NaN</td>\n",
       "      <td>NaN</td>\n",
       "      <td>NaN</td>\n",
       "      <td>NaN</td>\n",
       "      <td>NaN</td>\n",
       "      <td>NaN</td>\n",
       "      <td>NaN</td>\n",
       "      <td>NaN</td>\n",
       "    </tr>\n",
       "    <tr>\n",
       "      <th>2987003</th>\n",
       "      <td>0</td>\n",
       "      <td>86499</td>\n",
       "      <td>50.0</td>\n",
       "      <td>W</td>\n",
       "      <td>18132</td>\n",
       "      <td>567.0</td>\n",
       "      <td>150.0</td>\n",
       "      <td>mastercard</td>\n",
       "      <td>117.0</td>\n",
       "      <td>debit</td>\n",
       "      <td>...</td>\n",
       "      <td>NaN</td>\n",
       "      <td>NaN</td>\n",
       "      <td>NaN</td>\n",
       "      <td>NaN</td>\n",
       "      <td>NaN</td>\n",
       "      <td>NaN</td>\n",
       "      <td>NaN</td>\n",
       "      <td>NaN</td>\n",
       "      <td>NaN</td>\n",
       "      <td>NaN</td>\n",
       "    </tr>\n",
       "    <tr>\n",
       "      <th>2987004</th>\n",
       "      <td>0</td>\n",
       "      <td>86506</td>\n",
       "      <td>50.0</td>\n",
       "      <td>H</td>\n",
       "      <td>4497</td>\n",
       "      <td>514.0</td>\n",
       "      <td>150.0</td>\n",
       "      <td>mastercard</td>\n",
       "      <td>102.0</td>\n",
       "      <td>credit</td>\n",
       "      <td>...</td>\n",
       "      <td>0.0</td>\n",
       "      <td>0.0</td>\n",
       "      <td>0.0</td>\n",
       "      <td>0.0</td>\n",
       "      <td>0.0</td>\n",
       "      <td>0.0</td>\n",
       "      <td>0.0</td>\n",
       "      <td>0.0</td>\n",
       "      <td>0.0</td>\n",
       "      <td>0.0</td>\n",
       "    </tr>\n",
       "  </tbody>\n",
       "</table>\n",
       "<p>5 rows × 393 columns</p>\n",
       "</div>"
      ],
      "text/plain": [
       "               isFraud  TransactionDT  TransactionAmt ProductCD  card1  card2  \\\n",
       "TransactionID                                                                   \n",
       "2987000              0          86400            68.5         W  13926    NaN   \n",
       "2987001              0          86401            29.0         W   2755  404.0   \n",
       "2987002              0          86469            59.0         W   4663  490.0   \n",
       "2987003              0          86499            50.0         W  18132  567.0   \n",
       "2987004              0          86506            50.0         H   4497  514.0   \n",
       "\n",
       "               card3       card4  card5   card6  ...  V330  V331  V332  V333  \\\n",
       "TransactionID                                    ...                           \n",
       "2987000        150.0    discover  142.0  credit  ...   NaN   NaN   NaN   NaN   \n",
       "2987001        150.0  mastercard  102.0  credit  ...   NaN   NaN   NaN   NaN   \n",
       "2987002        150.0        visa  166.0   debit  ...   NaN   NaN   NaN   NaN   \n",
       "2987003        150.0  mastercard  117.0   debit  ...   NaN   NaN   NaN   NaN   \n",
       "2987004        150.0  mastercard  102.0  credit  ...   0.0   0.0   0.0   0.0   \n",
       "\n",
       "              V334 V335  V336  V337  V338  V339  \n",
       "TransactionID                                    \n",
       "2987000        NaN  NaN   NaN   NaN   NaN   NaN  \n",
       "2987001        NaN  NaN   NaN   NaN   NaN   NaN  \n",
       "2987002        NaN  NaN   NaN   NaN   NaN   NaN  \n",
       "2987003        NaN  NaN   NaN   NaN   NaN   NaN  \n",
       "2987004        0.0  0.0   0.0   0.0   0.0   0.0  \n",
       "\n",
       "[5 rows x 393 columns]"
      ]
     },
     "execution_count": 35,
     "metadata": {},
     "output_type": "execute_result"
    }
   ],
   "source": [
    "train.head()"
   ]
  },
  {
   "cell_type": "code",
   "execution_count": 36,
   "metadata": {},
   "outputs": [
    {
     "name": "stdout",
     "output_type": "stream",
     "text": [
      "<class 'pandas.core.frame.DataFrame'>\n",
      "Int64Index: 180000 entries, 2987000 to 3166999\n",
      "Columns: 393 entries, isFraud to V339\n",
      "dtypes: float64(376), int64(3), object(14)\n",
      "memory usage: 541.1+ MB\n"
     ]
    }
   ],
   "source": [
    "train.info()"
   ]
  },
  {
   "cell_type": "code",
   "execution_count": 37,
   "metadata": {},
   "outputs": [
    {
     "name": "stdout",
     "output_type": "stream",
     "text": [
      "<class 'pandas.core.frame.DataFrame'>\n",
      "Int64Index: 100001 entries, 3287000 to 3387000\n",
      "Columns: 393 entries, isFraud to V339\n",
      "dtypes: float64(376), int64(3), object(14)\n",
      "memory usage: 300.6+ MB\n"
     ]
    }
   ],
   "source": [
    "l_board.info()"
   ]
  },
  {
   "cell_type": "markdown",
   "metadata": {},
   "source": [
    "Задание 1: сделать Hold-Out валидацию с разбиением, размер которого будет адеквтаным, по вашему мнению; разбиение проводить по id-транзакции (TransactionID), обучать модель градиетного бустинга любой реализации с подбором числа деревьев по early_stopping критерию до достижения сходимости. Оценить качество модели на валидационной выборке, оценить расхождение по сравнению с качеством на обучающей выборке и валидационной выборке. Оценить качество на ЛБ, сравнить с качеством на обучении и валидации. Сделать выводы."
   ]
  },
  {
   "cell_type": "code",
   "execution_count": 38,
   "metadata": {},
   "outputs": [],
   "source": [
    "object_features = train.select_dtypes(include=[np.object]).columns"
   ]
  },
  {
   "cell_type": "code",
   "execution_count": 39,
   "metadata": {},
   "outputs": [],
   "source": [
    "train[object_features]= train[object_features].astype('category')\n",
    "l_board[object_features]= l_board[object_features].astype('category')"
   ]
  },
  {
   "cell_type": "code",
   "execution_count": 62,
   "metadata": {},
   "outputs": [],
   "source": [
    "x_train,x_valid,y_train,y_valid = train_test_split(train.drop('isFraud',axis=1),train['isFraud'], test_size = 0.3 ,random_state=15)"
   ]
  },
  {
   "cell_type": "code",
   "execution_count": 63,
   "metadata": {},
   "outputs": [],
   "source": [
    "dtrain = lgb.Dataset(data=x_train, label=y_train,categorical_feature=object_features.to_list())\n",
    "dvalid = lgb.Dataset(data=x_valid, label=y_valid,categorical_feature=object_features.to_list())"
   ]
  },
  {
   "cell_type": "code",
   "execution_count": 85,
   "metadata": {},
   "outputs": [],
   "source": [
    "params = {\n",
    "    \"boosting_type\": \"gbdt\",\n",
    "    \"objective\": \"binary\",\n",
    "    \"metric\": \"auc\",\n",
    "    \"learning_rate\": 0.05,\n",
    "    \"n_estimators\": 20000,\n",
    "    \"n_jobs\": 15,\n",
    "    \"seed\": 5\n",
    "}"
   ]
  },
  {
   "cell_type": "code",
   "execution_count": 65,
   "metadata": {},
   "outputs": [],
   "source": [
    "model = lgb.train(\n",
    "    params=params,\n",
    "    train_set=dtrain,\n",
    "    num_boost_round=10000,\n",
    "    valid_sets=[dtrain, dvalid],\n",
    "    categorical_feature=object_features.to_list(),\n",
    "    early_stopping_rounds=90,\n",
    "    verbose_eval=None\n",
    ")"
   ]
  },
  {
   "cell_type": "code",
   "execution_count": 66,
   "metadata": {},
   "outputs": [
    {
     "data": {
      "text/plain": [
       "(defaultdict(collections.OrderedDict,\n",
       "             {'training': OrderedDict([('auc', 0.9999718098871575)]),\n",
       "              'valid_1': OrderedDict([('auc', 0.9564815499099788)])}),\n",
       " 1493)"
      ]
     },
     "execution_count": 66,
     "metadata": {},
     "output_type": "execute_result"
    }
   ],
   "source": [
    "model.best_score, model.best_iteration"
   ]
  },
  {
   "cell_type": "markdown",
   "metadata": {},
   "source": [
    "Качество модели на валидационной выборке 0,957  что кажеться очень хорошим результатом. При  этон на трайн почти единица. \n",
    "Что говорит, что модель сильно подстроилась по данные, но при этом разность не сильно большая меньеше 5%"
   ]
  },
  {
   "cell_type": "markdown",
   "metadata": {},
   "source": [
    "Оценим качество на лидер борде"
   ]
  },
  {
   "cell_type": "code",
   "execution_count": 67,
   "metadata": {},
   "outputs": [
    {
     "data": {
      "text/plain": [
       "0.8496501937123049"
      ]
     },
     "execution_count": 67,
     "metadata": {},
     "output_type": "execute_result"
    }
   ],
   "source": [
    "roc_auc_score(l_board['isFraud'], model.predict(l_board.drop('isFraud',axis=1)))"
   ]
  },
  {
   "cell_type": "markdown",
   "metadata": {},
   "source": [
    "Наблюдаем сильное отличие показателя качества на валидации и лидерборде, почти 10%"
   ]
  },
  {
   "cell_type": "markdown",
   "metadata": {},
   "source": [
    "Задание 2: сделать Hold-Out валидацию с разбиением на 3 выборки, разбиение проводить по id-транзакции (TransactionID), размер каждой выборки подобрать самостоятельно. Повторить процедуру из п.1. для каждой выборки."
   ]
  },
  {
   "cell_type": "code",
   "execution_count": 68,
   "metadata": {},
   "outputs": [],
   "source": [
    "x_valid,x_test,y_valid,y_test = train_test_split(x_valid,y_valid, test_size = 0.4 ,random_state=15)"
   ]
  },
  {
   "cell_type": "code",
   "execution_count": 69,
   "metadata": {},
   "outputs": [
    {
     "name": "stdout",
     "output_type": "stream",
     "text": [
      "<class 'pandas.core.frame.DataFrame'>\n",
      "Int64Index: 32400 entries, 3083768 to 3127011\n",
      "Columns: 392 entries, TransactionDT to V339\n",
      "dtypes: category(14), float64(376), int64(2)\n",
      "memory usage: 94.1 MB\n"
     ]
    }
   ],
   "source": [
    "x_valid.info()\n"
   ]
  },
  {
   "cell_type": "code",
   "execution_count": 70,
   "metadata": {},
   "outputs": [
    {
     "name": "stdout",
     "output_type": "stream",
     "text": [
      "<class 'pandas.core.frame.DataFrame'>\n",
      "Int64Index: 21600 entries, 3122360 to 3071062\n",
      "Columns: 392 entries, TransactionDT to V339\n",
      "dtypes: category(14), float64(376), int64(2)\n",
      "memory usage: 62.8 MB\n"
     ]
    }
   ],
   "source": [
    "x_test.info()"
   ]
  },
  {
   "cell_type": "code",
   "execution_count": 71,
   "metadata": {},
   "outputs": [
    {
     "data": {
      "text/plain": [
       "0.9542313280399443"
      ]
     },
     "execution_count": 71,
     "metadata": {},
     "output_type": "execute_result"
    }
   ],
   "source": [
    "# Скор на валидационной выборке\n",
    "roc_auc_score(y_valid, model.predict(x_valid))"
   ]
  },
  {
   "cell_type": "code",
   "execution_count": 72,
   "metadata": {},
   "outputs": [
    {
     "data": {
      "text/plain": [
       "0.9597253383379328"
      ]
     },
     "execution_count": 72,
     "metadata": {},
     "output_type": "execute_result"
    }
   ],
   "source": [
    "# Скор на тестовой выборке\n",
    "roc_auc_score(y_test, model.predict(x_test))"
   ]
  },
  {
   "cell_type": "markdown",
   "metadata": {},
   "source": [
    "Как видно показатель качества не сильно отличается на валидационной и на тестовой выборке и их сильно преврсходит лидерборд. То есть модель на своих данных стабильна. Но как только появляются данне м ЛБ, все идет не так. Таким образом,  модель на ЛБ будет работать по доугому, видимо данные сильно отличаются"
   ]
  },
  {
   "cell_type": "markdown",
   "metadata": {},
   "source": [
    "Задание 3: построить доверительный интервал на данных из п.2 на основе бутстреп выборок, оценить качество модели на ЛБ относительно полученного доверительного интервала. Сделать выводы."
   ]
  },
  {
   "cell_type": "markdown",
   "metadata": {},
   "source": [
    "-----\n",
    "Вот здесь я запутался. Для данного задания нужно обучать модель на полных данных или только на разделенных(x_train , за вычетом x_valid)).\n",
    "\n",
    "Сначало все сделал на x_train, потом посмотрел лекцию, там модель обучена на полном объеме данных. Переделал. И бустрап валидацию, так тже как и в задании делдал на тестовой выборке (самой маленькой)"
   ]
  },
  {
   "cell_type": "code",
   "execution_count": 94,
   "metadata": {},
   "outputs": [],
   "source": [
    "dtrain = lgb.Dataset(data=train.drop('isFraud',axis=1), label=train['isFraud'],categorical_feature=object_features.to_list())\n",
    "dvalid = lgb.Dataset(data=x_valid, label=y_valid,categorical_feature=object_features.to_list())"
   ]
  },
  {
   "cell_type": "code",
   "execution_count": 95,
   "metadata": {},
   "outputs": [],
   "source": [
    "model = lgb.train(\n",
    "    params=params,\n",
    "    train_set=dtrain,\n",
    "    num_boost_round=10000,\n",
    "    valid_sets=[dtrain,dvalid],\n",
    "    categorical_feature=object_features.to_list(),\n",
    "    early_stopping_rounds=90,\n",
    "    verbose_eval=None\n",
    ")"
   ]
  },
  {
   "cell_type": "code",
   "execution_count": 96,
   "metadata": {},
   "outputs": [
    {
     "data": {
      "text/plain": [
       "(defaultdict(collections.OrderedDict,\n",
       "             {'training': OrderedDict([('auc', 0.9999987941488887)]),\n",
       "              'valid_1': OrderedDict([('auc', 0.9999997936997556)])}),\n",
       " 2706)"
      ]
     },
     "execution_count": 96,
     "metadata": {},
     "output_type": "execute_result"
    }
   ],
   "source": [
    "model.best_score, model.best_iteration"
   ]
  },
  {
   "cell_type": "code",
   "execution_count": 97,
   "metadata": {},
   "outputs": [
    {
     "data": {
      "text/plain": [
       "(0.9999835498445154, 1.0)"
      ]
     },
     "execution_count": 97,
     "metadata": {},
     "output_type": "execute_result"
    }
   ],
   "source": [
    "# доверительный интервал на данных из п.2 на основе бутстреп выборок\n",
    "np.random.seed(15)\n",
    "scores = create_bootstrap_metrics(y_test, model.predict(x_test), roc_auc_score)\n",
    "\n",
    "calculate_confidence_interval(scores)"
   ]
  },
  {
   "cell_type": "code",
   "execution_count": 98,
   "metadata": {},
   "outputs": [
    {
     "data": {
      "text/plain": [
       "0.8323428374893191"
      ]
     },
     "execution_count": 98,
     "metadata": {},
     "output_type": "execute_result"
    }
   ],
   "source": [
    "# Скор на лидерборде\n",
    "roc_auc_score(l_board['isFraud'], model.predict(l_board.drop('isFraud',axis=1)))"
   ]
  },
  {
   "cell_type": "markdown",
   "metadata": {},
   "source": [
    "вторым способом, не знаю как правильно"
   ]
  },
  {
   "cell_type": "code",
   "execution_count": 91,
   "metadata": {},
   "outputs": [],
   "source": [
    "dtrain = lgb.Dataset(data=x_train, label=y_train,categorical_feature=object_features.to_list())\n",
    "dvalid = lgb.Dataset(data=x_valid, label=y_valid,categorical_feature=object_features.to_list())"
   ]
  },
  {
   "cell_type": "code",
   "execution_count": 92,
   "metadata": {},
   "outputs": [
    {
     "data": {
      "text/plain": [
       "(defaultdict(collections.OrderedDict,\n",
       "             {'training': OrderedDict([('auc', 0.9999869003184734)]),\n",
       "              'valid_1': OrderedDict([('auc', 0.954349331779755)])}),\n",
       " 1615)"
      ]
     },
     "execution_count": 92,
     "metadata": {},
     "output_type": "execute_result"
    }
   ],
   "source": [
    "model = lgb.train(\n",
    "    params=params,\n",
    "    train_set=dtrain,\n",
    "    num_boost_round=10000,\n",
    "    valid_sets=[dtrain,dvalid],\n",
    "    categorical_feature=object_features.to_list(),\n",
    "    early_stopping_rounds=90,\n",
    "    verbose_eval=None\n",
    ")\n",
    "model.best_score, model.best_iteration"
   ]
  },
  {
   "cell_type": "code",
   "execution_count": 93,
   "metadata": {},
   "outputs": [
    {
     "data": {
      "text/plain": [
       "0.8491836579831299"
      ]
     },
     "execution_count": 93,
     "metadata": {},
     "output_type": "execute_result"
    }
   ],
   "source": [
    "# Скор на лидерборде\n",
    "roc_auc_score(l_board['isFraud'], model.predict(l_board.drop('isFraud',axis=1)))"
   ]
  },
  {
   "cell_type": "code",
   "execution_count": null,
   "metadata": {},
   "outputs": [],
   "source": []
  },
  {
   "cell_type": "markdown",
   "metadata": {},
   "source": [
    " Видимо данные сильно отличаются в моделе и лидерборде."
   ]
  },
  {
   "cell_type": "markdown",
   "metadata": {},
   "source": [
    "Задание 4: выполнить Adversarial Validation, подобрать объекты из обучающей выборки, которые сильно похожи на объекты из assignment_2_test.csv, и использовать их в качестве валидационного набора. Оценить качество модели на ЛБ, сделать выводы о полученных результатах."
   ]
  },
  {
   "cell_type": "markdown",
   "metadata": {},
   "source": [
    "Здесь я то же не очень понимаю задаание.\n",
    "Adversarial Validation между x_train и  x_valid?, так сделано в лекции , и в задании указано \n",
    "\n",
    " Будем моделировать ситуацию отправки решения на лидерборд и сравнить значение метрики на лидерборде и на локальной валидации. Для других целей использовать выборку запрещено!.\n",
    "    \n",
    "    Но я не понимаю для чего так делать, это ничего не даст.\n",
    "    Нужно делать с данными которые для лидерборда, что бы понять как они отличаются.\n",
    "    Поскольу рабочих данных все прекрасно и так\n"
   ]
  },
  {
   "cell_type": "code",
   "execution_count": 99,
   "metadata": {},
   "outputs": [],
   "source": [
    "x_adv = pd.concat([\n",
    "    train.drop('isFraud',axis=1), l_board.drop('isFraud',axis=1)], axis=0\n",
    ")\n",
    "y_adv = np.hstack((np.zeros(train.shape[0]), np.ones(l_board.shape[0])))\n",
    "assert x_adv.shape[0] == y_adv.shape[0]"
   ]
  },
  {
   "cell_type": "code",
   "execution_count": 108,
   "metadata": {},
   "outputs": [],
   "source": [
    "x_adv[object_features]= x_adv[object_features].astype('category')"
   ]
  },
  {
   "cell_type": "code",
   "execution_count": 109,
   "metadata": {},
   "outputs": [
    {
     "name": "stdout",
     "output_type": "stream",
     "text": [
      "<class 'pandas.core.frame.DataFrame'>\n",
      "Int64Index: 280001 entries, 2987000 to 3387000\n",
      "Columns: 392 entries, TransactionDT to V339\n",
      "dtypes: category(14), float64(376), int64(2)\n",
      "memory usage: 813.4 MB\n"
     ]
    }
   ],
   "source": [
    "x_adv.info()"
   ]
  },
  {
   "cell_type": "code",
   "execution_count": 113,
   "metadata": {},
   "outputs": [
    {
     "data": {
      "text/plain": [
       "(array([0., 1.]), 280001)"
      ]
     },
     "execution_count": 113,
     "metadata": {},
     "output_type": "execute_result"
    }
   ],
   "source": [
    "np.unique(y_adv),len(y_adv)"
   ]
  },
  {
   "cell_type": "code",
   "execution_count": 295,
   "metadata": {},
   "outputs": [],
   "source": [
    "dtrain = lgb.Dataset(data=x_adv, label=y_adv,categorical_feature=object_features.to_list())"
   ]
  },
  {
   "cell_type": "code",
   "execution_count": null,
   "metadata": {},
   "outputs": [],
   "source": [
    "model = lgb.train(\n",
    "    params=params,\n",
    "    train_set=dtrain,\n",
    "    num_boost_round=10000,\n",
    "    valid_sets=[dtrain],\n",
    "    categorical_feature=object_features.to_list(),\n",
    "    early_stopping_rounds=90,\n",
    "    verbose_eval=None\n",
    ")\n",
    "model.best_score, model.best_iteration"
   ]
  },
  {
   "cell_type": "code",
   "execution_count": 264,
   "metadata": {},
   "outputs": [],
   "source": [
    "a = list(zip(model.feature_name(), model.feature_importance()))"
   ]
  },
  {
   "cell_type": "code",
   "execution_count": 269,
   "metadata": {},
   "outputs": [
    {
     "data": {
      "text/plain": [
       "[('C13', 9),\n",
       " ('C1', 4),\n",
       " ('C14', 4),\n",
       " ('D2', 4),\n",
       " ('V87', 4),\n",
       " ('C12', 3),\n",
       " ('V156', 3),\n",
       " ('V317', 3),\n",
       " ('card2', 3),\n",
       " ('C2', 2),\n",
       " ('C8', 2),\n",
       " ('M4', 2),\n",
       " ('TransactionAmt', 2),\n",
       " ('V44', 2),\n",
       " ('V53', 2),\n",
       " ('V67', 2),\n",
       " ('card1', 2),\n",
       " ('card3', 2),\n",
       " ('C10', 1),\n",
       " ('C11', 1),\n",
       " ('C5', 1),\n",
       " ('C6', 1),\n",
       " ('C9', 1),\n",
       " ('D1', 1),\n",
       " ('D15', 1),\n",
       " ('D9', 1),\n",
       " ('TransactionDT', 1),\n",
       " ('V105', 1),\n",
       " ('V12', 1),\n",
       " ('V143', 1),\n",
       " ('V155', 1),\n",
       " ('V170', 1),\n",
       " ('V173', 1),\n",
       " ('V189', 1),\n",
       " ('V201', 1),\n",
       " ('V206', 1),\n",
       " ('V239', 1),\n",
       " ('V243', 1),\n",
       " ('V244', 1),\n",
       " ('V261', 1),\n",
       " ('V268', 1),\n",
       " ('V283', 1),\n",
       " ('V294', 1),\n",
       " ('V313', 1),\n",
       " ('V323', 1),\n",
       " ('V45', 1),\n",
       " ('V58', 1),\n",
       " ('V62', 1),\n",
       " ('V63', 1),\n",
       " ('V77', 1),\n",
       " ('addr1', 1),\n",
       " ('addr2', 1),\n",
       " ('card5', 1),\n",
       " ('C3', 0),\n",
       " ('C4', 0),\n",
       " ('C7', 0),\n",
       " ('D10', 0),\n",
       " ('D11', 0),\n",
       " ('D12', 0),\n",
       " ('D13', 0),\n",
       " ('D14', 0),\n",
       " ('D3', 0),\n",
       " ('D4', 0),\n",
       " ('D5', 0),\n",
       " ('D6', 0),\n",
       " ('D7', 0),\n",
       " ('D8', 0),\n",
       " ('M1', 0),\n",
       " ('M2', 0),\n",
       " ('M3', 0),\n",
       " ('M5', 0),\n",
       " ('M6', 0),\n",
       " ('M7', 0),\n",
       " ('M8', 0),\n",
       " ('M9', 0),\n",
       " ('P_emaildomain', 0),\n",
       " ('ProductCD', 0),\n",
       " ('R_emaildomain', 0),\n",
       " ('V1', 0),\n",
       " ('V10', 0),\n",
       " ('V100', 0),\n",
       " ('V101', 0),\n",
       " ('V102', 0),\n",
       " ('V103', 0),\n",
       " ('V104', 0),\n",
       " ('V106', 0),\n",
       " ('V107', 0),\n",
       " ('V108', 0),\n",
       " ('V109', 0),\n",
       " ('V11', 0),\n",
       " ('V110', 0),\n",
       " ('V111', 0),\n",
       " ('V112', 0),\n",
       " ('V113', 0),\n",
       " ('V114', 0),\n",
       " ('V115', 0),\n",
       " ('V116', 0),\n",
       " ('V117', 0),\n",
       " ('V118', 0),\n",
       " ('V119', 0),\n",
       " ('V120', 0),\n",
       " ('V121', 0),\n",
       " ('V122', 0),\n",
       " ('V123', 0),\n",
       " ('V124', 0),\n",
       " ('V125', 0),\n",
       " ('V126', 0),\n",
       " ('V127', 0),\n",
       " ('V128', 0),\n",
       " ('V129', 0),\n",
       " ('V13', 0),\n",
       " ('V130', 0),\n",
       " ('V131', 0),\n",
       " ('V132', 0),\n",
       " ('V133', 0),\n",
       " ('V134', 0),\n",
       " ('V135', 0),\n",
       " ('V136', 0),\n",
       " ('V137', 0),\n",
       " ('V138', 0),\n",
       " ('V139', 0),\n",
       " ('V14', 0),\n",
       " ('V140', 0),\n",
       " ('V141', 0),\n",
       " ('V142', 0),\n",
       " ('V144', 0),\n",
       " ('V145', 0),\n",
       " ('V146', 0),\n",
       " ('V147', 0),\n",
       " ('V148', 0),\n",
       " ('V149', 0),\n",
       " ('V15', 0),\n",
       " ('V150', 0),\n",
       " ('V151', 0),\n",
       " ('V152', 0),\n",
       " ('V153', 0),\n",
       " ('V154', 0),\n",
       " ('V157', 0),\n",
       " ('V158', 0),\n",
       " ('V159', 0),\n",
       " ('V16', 0),\n",
       " ('V160', 0),\n",
       " ('V161', 0),\n",
       " ('V162', 0),\n",
       " ('V163', 0),\n",
       " ('V164', 0),\n",
       " ('V165', 0),\n",
       " ('V166', 0),\n",
       " ('V167', 0),\n",
       " ('V168', 0),\n",
       " ('V169', 0),\n",
       " ('V17', 0),\n",
       " ('V171', 0),\n",
       " ('V172', 0),\n",
       " ('V174', 0),\n",
       " ('V175', 0),\n",
       " ('V176', 0),\n",
       " ('V177', 0),\n",
       " ('V178', 0),\n",
       " ('V179', 0),\n",
       " ('V18', 0),\n",
       " ('V180', 0),\n",
       " ('V181', 0),\n",
       " ('V182', 0),\n",
       " ('V183', 0),\n",
       " ('V184', 0),\n",
       " ('V185', 0),\n",
       " ('V186', 0),\n",
       " ('V187', 0),\n",
       " ('V188', 0),\n",
       " ('V19', 0),\n",
       " ('V190', 0),\n",
       " ('V191', 0),\n",
       " ('V192', 0),\n",
       " ('V193', 0),\n",
       " ('V194', 0),\n",
       " ('V195', 0),\n",
       " ('V196', 0),\n",
       " ('V197', 0),\n",
       " ('V198', 0),\n",
       " ('V199', 0),\n",
       " ('V2', 0),\n",
       " ('V20', 0),\n",
       " ('V200', 0),\n",
       " ('V202', 0),\n",
       " ('V203', 0),\n",
       " ('V204', 0),\n",
       " ('V205', 0),\n",
       " ('V207', 0),\n",
       " ('V208', 0),\n",
       " ('V209', 0),\n",
       " ('V21', 0),\n",
       " ('V210', 0),\n",
       " ('V211', 0),\n",
       " ('V212', 0),\n",
       " ('V213', 0),\n",
       " ('V214', 0),\n",
       " ('V215', 0),\n",
       " ('V216', 0),\n",
       " ('V217', 0),\n",
       " ('V218', 0),\n",
       " ('V219', 0),\n",
       " ('V22', 0),\n",
       " ('V220', 0),\n",
       " ('V221', 0),\n",
       " ('V222', 0),\n",
       " ('V223', 0),\n",
       " ('V224', 0),\n",
       " ('V225', 0),\n",
       " ('V226', 0),\n",
       " ('V227', 0),\n",
       " ('V228', 0),\n",
       " ('V229', 0),\n",
       " ('V23', 0),\n",
       " ('V230', 0),\n",
       " ('V231', 0),\n",
       " ('V232', 0),\n",
       " ('V233', 0),\n",
       " ('V234', 0),\n",
       " ('V235', 0),\n",
       " ('V236', 0),\n",
       " ('V237', 0),\n",
       " ('V238', 0),\n",
       " ('V24', 0),\n",
       " ('V240', 0),\n",
       " ('V241', 0),\n",
       " ('V242', 0),\n",
       " ('V245', 0),\n",
       " ('V246', 0),\n",
       " ('V247', 0),\n",
       " ('V248', 0),\n",
       " ('V249', 0),\n",
       " ('V25', 0),\n",
       " ('V250', 0),\n",
       " ('V251', 0),\n",
       " ('V252', 0),\n",
       " ('V253', 0),\n",
       " ('V254', 0),\n",
       " ('V255', 0),\n",
       " ('V256', 0),\n",
       " ('V257', 0),\n",
       " ('V258', 0),\n",
       " ('V259', 0),\n",
       " ('V26', 0),\n",
       " ('V260', 0),\n",
       " ('V262', 0),\n",
       " ('V263', 0),\n",
       " ('V264', 0),\n",
       " ('V265', 0),\n",
       " ('V266', 0),\n",
       " ('V267', 0),\n",
       " ('V269', 0),\n",
       " ('V27', 0),\n",
       " ('V270', 0),\n",
       " ('V271', 0),\n",
       " ('V272', 0),\n",
       " ('V273', 0),\n",
       " ('V274', 0),\n",
       " ('V275', 0),\n",
       " ('V276', 0),\n",
       " ('V277', 0),\n",
       " ('V278', 0),\n",
       " ('V279', 0),\n",
       " ('V28', 0),\n",
       " ('V280', 0),\n",
       " ('V281', 0),\n",
       " ('V282', 0),\n",
       " ('V284', 0),\n",
       " ('V285', 0),\n",
       " ('V286', 0),\n",
       " ('V287', 0),\n",
       " ('V288', 0),\n",
       " ('V289', 0),\n",
       " ('V29', 0),\n",
       " ('V290', 0),\n",
       " ('V291', 0),\n",
       " ('V292', 0),\n",
       " ('V293', 0),\n",
       " ('V295', 0),\n",
       " ('V296', 0),\n",
       " ('V297', 0),\n",
       " ('V298', 0),\n",
       " ('V299', 0),\n",
       " ('V3', 0),\n",
       " ('V30', 0),\n",
       " ('V300', 0),\n",
       " ('V301', 0),\n",
       " ('V302', 0),\n",
       " ('V303', 0),\n",
       " ('V304', 0),\n",
       " ('V305', 0),\n",
       " ('V306', 0),\n",
       " ('V307', 0),\n",
       " ('V308', 0),\n",
       " ('V309', 0),\n",
       " ('V31', 0),\n",
       " ('V310', 0),\n",
       " ('V311', 0),\n",
       " ('V312', 0),\n",
       " ('V314', 0),\n",
       " ('V315', 0),\n",
       " ('V316', 0),\n",
       " ('V318', 0),\n",
       " ('V319', 0),\n",
       " ('V32', 0),\n",
       " ('V320', 0),\n",
       " ('V321', 0),\n",
       " ('V322', 0),\n",
       " ('V324', 0),\n",
       " ('V325', 0),\n",
       " ('V326', 0),\n",
       " ('V327', 0),\n",
       " ('V328', 0),\n",
       " ('V329', 0),\n",
       " ('V33', 0),\n",
       " ('V330', 0),\n",
       " ('V331', 0),\n",
       " ('V332', 0),\n",
       " ('V333', 0),\n",
       " ('V334', 0),\n",
       " ('V335', 0),\n",
       " ('V336', 0),\n",
       " ('V337', 0),\n",
       " ('V338', 0),\n",
       " ('V339', 0),\n",
       " ('V34', 0),\n",
       " ('V35', 0),\n",
       " ('V36', 0),\n",
       " ('V37', 0),\n",
       " ('V38', 0),\n",
       " ('V39', 0),\n",
       " ('V4', 0),\n",
       " ('V40', 0),\n",
       " ('V41', 0),\n",
       " ('V42', 0),\n",
       " ('V43', 0),\n",
       " ('V46', 0),\n",
       " ('V47', 0),\n",
       " ('V48', 0),\n",
       " ('V49', 0),\n",
       " ('V5', 0),\n",
       " ('V50', 0),\n",
       " ('V51', 0),\n",
       " ('V52', 0),\n",
       " ('V54', 0),\n",
       " ('V55', 0),\n",
       " ('V56', 0),\n",
       " ('V57', 0),\n",
       " ('V59', 0),\n",
       " ('V6', 0),\n",
       " ('V60', 0),\n",
       " ('V61', 0),\n",
       " ('V64', 0),\n",
       " ('V65', 0),\n",
       " ('V66', 0),\n",
       " ('V68', 0),\n",
       " ('V69', 0),\n",
       " ('V7', 0),\n",
       " ('V70', 0),\n",
       " ('V71', 0),\n",
       " ('V72', 0),\n",
       " ('V73', 0),\n",
       " ('V74', 0),\n",
       " ('V75', 0),\n",
       " ('V76', 0),\n",
       " ('V78', 0),\n",
       " ('V79', 0),\n",
       " ('V8', 0),\n",
       " ('V80', 0),\n",
       " ('V81', 0),\n",
       " ('V82', 0),\n",
       " ('V83', 0),\n",
       " ('V84', 0),\n",
       " ('V85', 0),\n",
       " ('V86', 0),\n",
       " ('V88', 0),\n",
       " ('V89', 0),\n",
       " ('V9', 0),\n",
       " ('V90', 0),\n",
       " ('V91', 0),\n",
       " ('V92', 0),\n",
       " ('V93', 0),\n",
       " ('V94', 0),\n",
       " ('V95', 0),\n",
       " ('V96', 0),\n",
       " ('V97', 0),\n",
       " ('V98', 0),\n",
       " ('V99', 0),\n",
       " ('card4', 0),\n",
       " ('card6', 0),\n",
       " ('dist1', 0),\n",
       " ('dist2', 0)]"
      ]
     },
     "execution_count": 269,
     "metadata": {},
     "output_type": "execute_result"
    }
   ],
   "source": [
    "a.sort(key=lambda x: x[1],reverse=True)\n",
    "a"
   ]
  },
  {
   "cell_type": "code",
   "execution_count": 117,
   "metadata": {},
   "outputs": [],
   "source": [
    "pred = model.predict(x_adv)"
   ]
  },
  {
   "cell_type": "code",
   "execution_count": 119,
   "metadata": {},
   "outputs": [
    {
     "data": {
      "text/plain": [
       "(0.0, 0.1]    179827\n",
       "(0.1, 0.2]       100\n",
       "(0.2, 0.3]        43\n",
       "(0.3, 0.4]        19\n",
       "(0.4, 0.5]        10\n",
       "(0.5, 0.6]         2\n",
       "(0.6, 0.7]         5\n",
       "(0.7, 0.8]        20\n",
       "(0.8, 0.9]        93\n",
       "(0.9, 1.0]     99882\n",
       "dtype: int64"
      ]
     },
     "execution_count": 119,
     "metadata": {},
     "output_type": "execute_result"
    }
   ],
   "source": [
    "pd.cut(\n",
    "    pred, bins=np.arange(0, 1.01, 0.1)\n",
    ").value_counts().sort_index()"
   ]
  },
  {
   "cell_type": "code",
   "execution_count": 120,
   "metadata": {},
   "outputs": [
    {
     "data": {
      "text/plain": [
       "(180000, 100001)"
      ]
     },
     "execution_count": 120,
     "metadata": {},
     "output_type": "execute_result"
    }
   ],
   "source": [
    "len(train),len(l_board)"
   ]
  },
  {
   "cell_type": "code",
   "execution_count": 121,
   "metadata": {},
   "outputs": [
    {
     "data": {
      "text/plain": [
       "(0.0, 0.5]    179999\n",
       "(0.5, 1.0]    100002\n",
       "dtype: int64"
      ]
     },
     "execution_count": 121,
     "metadata": {},
     "output_type": "execute_result"
    }
   ],
   "source": [
    "pd.cut(\n",
    "    pred, bins=np.arange(0, 1.01, 0.5)\n",
    ").value_counts().sort_index()"
   ]
  },
  {
   "cell_type": "markdown",
   "metadata": {},
   "source": [
    "Модель соврешенно точно, практически на 100 % отличает какие данные из какой выборки, данные очень разные. Строить валидацию из данных для обучения с приличной точностью - не получиться"
   ]
  },
  {
   "cell_type": "code",
   "execution_count": 122,
   "metadata": {},
   "outputs": [],
   "source": [
    "predict = np.where(pred>=0.5,1,0)"
   ]
  },
  {
   "cell_type": "code",
   "execution_count": 126,
   "metadata": {},
   "outputs": [
    {
     "data": {
      "text/plain": [
       "1"
      ]
     },
     "execution_count": 126,
     "metadata": {},
     "output_type": "execute_result"
    }
   ],
   "source": [
    "sum(predict !=y_adv)"
   ]
  },
  {
   "cell_type": "markdown",
   "metadata": {},
   "source": [
    "Только одна ошибка из 280000"
   ]
  },
  {
   "cell_type": "markdown",
   "metadata": {},
   "source": [
    "Даже если взять строки от 0,1 до 0,9 их не будет даже две сотни. Мало что бы строить валидацию и не сильно похоже. "
   ]
  },
  {
   "cell_type": "markdown",
   "metadata": {},
   "source": [
    "Проверим"
   ]
  },
  {
   "cell_type": "code",
   "execution_count": 270,
   "metadata": {},
   "outputs": [],
   "source": [
    "# индексы, где значение вероятности боле0,1\n",
    "ind_val = np.where((y_adv ==0)&(pred>0.1))[0]"
   ]
  },
  {
   "cell_type": "code",
   "execution_count": 271,
   "metadata": {},
   "outputs": [
    {
     "data": {
      "text/plain": [
       "(173,)"
      ]
     },
     "execution_count": 271,
     "metadata": {},
     "output_type": "execute_result"
    }
   ],
   "source": [
    "ind_val.shape"
   ]
  },
  {
   "cell_type": "code",
   "execution_count": 275,
   "metadata": {},
   "outputs": [],
   "source": [
    "X_test = train.iloc[ind_val]"
   ]
  },
  {
   "cell_type": "code",
   "execution_count": 276,
   "metadata": {},
   "outputs": [
    {
     "name": "stdout",
     "output_type": "stream",
     "text": [
      "<class 'pandas.core.frame.DataFrame'>\n",
      "Int64Index: 173 entries, 3166742 to 3166998\n",
      "Columns: 393 entries, isFraud to V339\n",
      "dtypes: category(14), float64(376), int64(3)\n",
      "memory usage: 523.3 KB\n"
     ]
    }
   ],
   "source": [
    "X_test.info()"
   ]
  },
  {
   "cell_type": "code",
   "execution_count": 277,
   "metadata": {},
   "outputs": [],
   "source": [
    "X_train= train.drop(X_test.index)"
   ]
  },
  {
   "cell_type": "code",
   "execution_count": 278,
   "metadata": {},
   "outputs": [
    {
     "name": "stdout",
     "output_type": "stream",
     "text": [
      "<class 'pandas.core.frame.DataFrame'>\n",
      "Int64Index: 179827 entries, 2987000 to 3166999\n",
      "Columns: 393 entries, isFraud to V339\n",
      "dtypes: category(14), float64(376), int64(3)\n",
      "memory usage: 523.8 MB\n"
     ]
    }
   ],
   "source": [
    "X_train.info()"
   ]
  },
  {
   "cell_type": "code",
   "execution_count": 279,
   "metadata": {},
   "outputs": [],
   "source": [
    "y_train=X_train['isFraud']\n",
    "y_test=X_test['isFraud']\n",
    "X_train=X_train.drop('isFraud',axis=1)\n",
    "X_test=X_test.drop('isFraud',axis=1)\n"
   ]
  },
  {
   "cell_type": "code",
   "execution_count": 280,
   "metadata": {},
   "outputs": [],
   "source": [
    "dtrain = lgb.Dataset(data=X_train, label=y_train,categorical_feature=object_features.to_list())\n",
    "dvalid = lgb.Dataset(data=X_test, label=y_test,categorical_feature=object_features.to_list())"
   ]
  },
  {
   "cell_type": "code",
   "execution_count": 281,
   "metadata": {},
   "outputs": [
    {
     "data": {
      "text/plain": [
       "(defaultdict(collections.OrderedDict,\n",
       "             {'training': OrderedDict([('auc', 0.9611678778725501)]),\n",
       "              'valid_1': OrderedDict([('auc', 0.9985207100591716)])}),\n",
       " 135)"
      ]
     },
     "execution_count": 281,
     "metadata": {},
     "output_type": "execute_result"
    }
   ],
   "source": [
    "model = lgb.train(\n",
    "    params=params,\n",
    "    train_set=dtrain,\n",
    "    num_boost_round=10000,\n",
    "    valid_sets=[dtrain,dvalid],\n",
    "    categorical_feature=object_features.to_list(),\n",
    "    early_stopping_rounds=90,\n",
    "    verbose_eval=None\n",
    ")\n",
    "model.best_score, model.best_iteration"
   ]
  },
  {
   "cell_type": "code",
   "execution_count": 282,
   "metadata": {},
   "outputs": [
    {
     "data": {
      "text/plain": [
       "0.8720878429382346"
      ]
     },
     "execution_count": 282,
     "metadata": {},
     "output_type": "execute_result"
    }
   ],
   "source": [
    "# Скор на лидерборде\n",
    "roc_auc_score(l_board['isFraud'], model.predict(l_board.drop('isFraud',axis=1)))"
   ]
  },
  {
   "cell_type": "markdown",
   "metadata": {},
   "source": [
    "Совсем не понятная мне ситуация. Мы убрали на валидацию, строки более похожие на тест. Сама модель, стала более сильнее отличаться от лидер борда.\n",
    "По идее на валидации должен ухудшиться показатель и приблизиться к лидерборду, но все наоборот. И как не странно модель на лидерборде дает большый результат"
   ]
  },
  {
   "cell_type": "markdown",
   "metadata": {},
   "source": [
    "Попробуем убрать столюбец С13, который сильно влияет на разность данных и посомтрим, что будет в целом"
   ]
  },
  {
   "cell_type": "code",
   "execution_count": 289,
   "metadata": {},
   "outputs": [],
   "source": [
    "dtrain = lgb.Dataset(data=x_adv.drop(['C13',  'C1',  'C14', 'D2',                                                             'V87', 'C12', \n",
    " 'V156',  'V317',  'card2'],axis=1), label=y_adv,categorical_feature=object_features.to_list())"
   ]
  },
  {
   "cell_type": "code",
   "execution_count": 290,
   "metadata": {},
   "outputs": [
    {
     "data": {
      "text/plain": [
       "(defaultdict(collections.OrderedDict,\n",
       "             {'training': OrderedDict([('auc', 1.0)])}),\n",
       " 161)"
      ]
     },
     "execution_count": 290,
     "metadata": {},
     "output_type": "execute_result"
    }
   ],
   "source": [
    "model = lgb.train(\n",
    "    params=params,\n",
    "    train_set=dtrain,\n",
    "    num_boost_round=10000,\n",
    "    valid_sets=[dtrain],\n",
    "    categorical_feature=object_features.to_list(),\n",
    "    early_stopping_rounds=90,\n",
    "    verbose_eval=None\n",
    ")\n",
    "model.best_score, model.best_iteration"
   ]
  },
  {
   "cell_type": "code",
   "execution_count": 291,
   "metadata": {},
   "outputs": [],
   "source": [
    "pred = model.predict(x_adv.drop(['C13',  'C1',  'C14', 'D2',                                                             'V87', 'C12', \n",
    " 'V156',  'V317',  'card2'],axis=1))"
   ]
  },
  {
   "cell_type": "code",
   "execution_count": 292,
   "metadata": {},
   "outputs": [
    {
     "data": {
      "text/plain": [
       "(0.0, 0.5]    179999\n",
       "(0.5, 1.0]    100002\n",
       "dtype: int64"
      ]
     },
     "execution_count": 292,
     "metadata": {},
     "output_type": "execute_result"
    }
   ],
   "source": [
    "pd.cut(\n",
    "    pred, bins=np.arange(0, 1.01, 0.5)\n",
    ").value_counts().sort_index()"
   ]
  },
  {
   "cell_type": "code",
   "execution_count": 293,
   "metadata": {},
   "outputs": [],
   "source": [
    "a = list(zip(model.feature_name(), model.feature_importance()))"
   ]
  },
  {
   "cell_type": "code",
   "execution_count": 294,
   "metadata": {},
   "outputs": [
    {
     "data": {
      "text/plain": [
       "[('TransactionAmt', 458),\n",
       " ('TransactionDT', 322),\n",
       " ('card1', 311),\n",
       " ('addr1', 288),\n",
       " ('D15', 243),\n",
       " ('dist1', 241),\n",
       " ('card5', 229),\n",
       " ('D4', 169),\n",
       " ('D10', 147),\n",
       " ('D5', 142),\n",
       " ('D3', 140),\n",
       " ('D9', 128),\n",
       " ('V307', 119),\n",
       " ('D1', 92),\n",
       " ('D11', 92),\n",
       " ('dist2', 84),\n",
       " ('V291', 68),\n",
       " ('C5', 67),\n",
       " ('M6', 54),\n",
       " ('D8', 53),\n",
       " ('M5', 51),\n",
       " ('V314', 51),\n",
       " ('M8', 48),\n",
       " ('V310', 48),\n",
       " ('M9', 40),\n",
       " ('V7', 36),\n",
       " ('V286', 36),\n",
       " ('C2', 34),\n",
       " ('V12', 34),\n",
       " ('V306', 34),\n",
       " ('V130', 33),\n",
       " ('C6', 32),\n",
       " ('V127', 31),\n",
       " ('V308', 31),\n",
       " ('V70', 28),\n",
       " ('V83', 28),\n",
       " ('M4', 27),\n",
       " ('M7', 27),\n",
       " ('V45', 27),\n",
       " ('V221', 25),\n",
       " ('C11', 24),\n",
       " ('C9', 23),\n",
       " ('V86', 23),\n",
       " ('M2', 22),\n",
       " ('D6', 21),\n",
       " ('M3', 20),\n",
       " ('V48', 19),\n",
       " ('V75', 19),\n",
       " ('V285', 17),\n",
       " ('V311', 16),\n",
       " ('V49', 15),\n",
       " ('V96', 15),\n",
       " ('V10', 14),\n",
       " ('V36', 14),\n",
       " ('V39', 14),\n",
       " ('V44', 13),\n",
       " ('V320', 13),\n",
       " ('V4', 12),\n",
       " ('V52', 12),\n",
       " ('V264', 12),\n",
       " ('V309', 12),\n",
       " ('V53', 11),\n",
       " ('V124', 11),\n",
       " ('V294', 11),\n",
       " ('V34', 10),\n",
       " ('V35', 10),\n",
       " ('V99', 10),\n",
       " ('V102', 10),\n",
       " ('V312', 10),\n",
       " ('D13', 9),\n",
       " ('V13', 9),\n",
       " ('V29', 9),\n",
       " ('V282', 9),\n",
       " ('V19', 8),\n",
       " ('V76', 8),\n",
       " ('V129', 8),\n",
       " ('V95', 7),\n",
       " ('V131', 7),\n",
       " ('V283', 7),\n",
       " ('V313', 7),\n",
       " ('V2', 6),\n",
       " ('V20', 6),\n",
       " ('V23', 6),\n",
       " ('V128', 6),\n",
       " ('V136', 6),\n",
       " ('V280', 6),\n",
       " ('D7', 5),\n",
       " ('V54', 5),\n",
       " ('V62', 5),\n",
       " ('V295', 5),\n",
       " ('P_emaildomain', 4),\n",
       " ('V61', 4),\n",
       " ('V74', 4),\n",
       " ('V78', 4),\n",
       " ('V133', 4),\n",
       " ('V281', 4),\n",
       " ('V292', 4),\n",
       " ('V315', 4),\n",
       " ('card3', 3),\n",
       " ('C10', 3),\n",
       " ('D12', 3),\n",
       " ('V24', 3),\n",
       " ('V47', 3),\n",
       " ('V69', 3),\n",
       " ('V77', 3),\n",
       " ('V90', 3),\n",
       " ('V100', 3),\n",
       " ('V3', 2),\n",
       " ('V5', 2),\n",
       " ('V17', 2),\n",
       " ('V26', 2),\n",
       " ('V73', 2),\n",
       " ('V126', 2),\n",
       " ('V139', 2),\n",
       " ('V204', 2),\n",
       " ('V214', 2),\n",
       " ('V234', 2),\n",
       " ('V287', 2),\n",
       " ('V296', 2),\n",
       " ('V318', 2),\n",
       " ('C8', 1),\n",
       " ('V6', 1),\n",
       " ('V33', 1),\n",
       " ('V37', 1),\n",
       " ('V55', 1),\n",
       " ('V82', 1),\n",
       " ('V91', 1),\n",
       " ('V125', 1),\n",
       " ('V134', 1),\n",
       " ('V144', 1),\n",
       " ('V170', 1),\n",
       " ('V186', 1),\n",
       " ('V216', 1),\n",
       " ('V245', 1),\n",
       " ('V248', 1),\n",
       " ('V263', 1),\n",
       " ('V289', 1),\n",
       " ('V298', 1),\n",
       " ('V316', 1),\n",
       " ('V321', 1),\n",
       " ('ProductCD', 0),\n",
       " ('card4', 0),\n",
       " ('card6', 0),\n",
       " ('addr2', 0),\n",
       " ('R_emaildomain', 0),\n",
       " ('C3', 0),\n",
       " ('C4', 0),\n",
       " ('C7', 0),\n",
       " ('D14', 0),\n",
       " ('M1', 0),\n",
       " ('V1', 0),\n",
       " ('V8', 0),\n",
       " ('V9', 0),\n",
       " ('V11', 0),\n",
       " ('V14', 0),\n",
       " ('V15', 0),\n",
       " ('V16', 0),\n",
       " ('V18', 0),\n",
       " ('V21', 0),\n",
       " ('V22', 0),\n",
       " ('V25', 0),\n",
       " ('V27', 0),\n",
       " ('V28', 0),\n",
       " ('V30', 0),\n",
       " ('V31', 0),\n",
       " ('V32', 0),\n",
       " ('V38', 0),\n",
       " ('V40', 0),\n",
       " ('V41', 0),\n",
       " ('V42', 0),\n",
       " ('V43', 0),\n",
       " ('V46', 0),\n",
       " ('V50', 0),\n",
       " ('V51', 0),\n",
       " ('V56', 0),\n",
       " ('V57', 0),\n",
       " ('V58', 0),\n",
       " ('V59', 0),\n",
       " ('V60', 0),\n",
       " ('V63', 0),\n",
       " ('V64', 0),\n",
       " ('V65', 0),\n",
       " ('V66', 0),\n",
       " ('V67', 0),\n",
       " ('V68', 0),\n",
       " ('V71', 0),\n",
       " ('V72', 0),\n",
       " ('V79', 0),\n",
       " ('V80', 0),\n",
       " ('V81', 0),\n",
       " ('V84', 0),\n",
       " ('V85', 0),\n",
       " ('V88', 0),\n",
       " ('V89', 0),\n",
       " ('V92', 0),\n",
       " ('V93', 0),\n",
       " ('V94', 0),\n",
       " ('V97', 0),\n",
       " ('V98', 0),\n",
       " ('V101', 0),\n",
       " ('V103', 0),\n",
       " ('V104', 0),\n",
       " ('V105', 0),\n",
       " ('V106', 0),\n",
       " ('V107', 0),\n",
       " ('V108', 0),\n",
       " ('V109', 0),\n",
       " ('V110', 0),\n",
       " ('V111', 0),\n",
       " ('V112', 0),\n",
       " ('V113', 0),\n",
       " ('V114', 0),\n",
       " ('V115', 0),\n",
       " ('V116', 0),\n",
       " ('V117', 0),\n",
       " ('V118', 0),\n",
       " ('V119', 0),\n",
       " ('V120', 0),\n",
       " ('V121', 0),\n",
       " ('V122', 0),\n",
       " ('V123', 0),\n",
       " ('V132', 0),\n",
       " ('V135', 0),\n",
       " ('V137', 0),\n",
       " ('V138', 0),\n",
       " ('V140', 0),\n",
       " ('V141', 0),\n",
       " ('V142', 0),\n",
       " ('V143', 0),\n",
       " ('V145', 0),\n",
       " ('V146', 0),\n",
       " ('V147', 0),\n",
       " ('V148', 0),\n",
       " ('V149', 0),\n",
       " ('V150', 0),\n",
       " ('V151', 0),\n",
       " ('V152', 0),\n",
       " ('V153', 0),\n",
       " ('V154', 0),\n",
       " ('V155', 0),\n",
       " ('V157', 0),\n",
       " ('V158', 0),\n",
       " ('V159', 0),\n",
       " ('V160', 0),\n",
       " ('V161', 0),\n",
       " ('V162', 0),\n",
       " ('V163', 0),\n",
       " ('V164', 0),\n",
       " ('V165', 0),\n",
       " ('V166', 0),\n",
       " ('V167', 0),\n",
       " ('V168', 0),\n",
       " ('V169', 0),\n",
       " ('V171', 0),\n",
       " ('V172', 0),\n",
       " ('V173', 0),\n",
       " ('V174', 0),\n",
       " ('V175', 0),\n",
       " ('V176', 0),\n",
       " ('V177', 0),\n",
       " ('V178', 0),\n",
       " ('V179', 0),\n",
       " ('V180', 0),\n",
       " ('V181', 0),\n",
       " ('V182', 0),\n",
       " ('V183', 0),\n",
       " ('V184', 0),\n",
       " ('V185', 0),\n",
       " ('V187', 0),\n",
       " ('V188', 0),\n",
       " ('V189', 0),\n",
       " ('V190', 0),\n",
       " ('V191', 0),\n",
       " ('V192', 0),\n",
       " ('V193', 0),\n",
       " ('V194', 0),\n",
       " ('V195', 0),\n",
       " ('V196', 0),\n",
       " ('V197', 0),\n",
       " ('V198', 0),\n",
       " ('V199', 0),\n",
       " ('V200', 0),\n",
       " ('V201', 0),\n",
       " ('V202', 0),\n",
       " ('V203', 0),\n",
       " ('V205', 0),\n",
       " ('V206', 0),\n",
       " ('V207', 0),\n",
       " ('V208', 0),\n",
       " ('V209', 0),\n",
       " ('V210', 0),\n",
       " ('V211', 0),\n",
       " ('V212', 0),\n",
       " ('V213', 0),\n",
       " ('V215', 0),\n",
       " ('V217', 0),\n",
       " ('V218', 0),\n",
       " ('V219', 0),\n",
       " ('V220', 0),\n",
       " ('V222', 0),\n",
       " ('V223', 0),\n",
       " ('V224', 0),\n",
       " ('V225', 0),\n",
       " ('V226', 0),\n",
       " ('V227', 0),\n",
       " ('V228', 0),\n",
       " ('V229', 0),\n",
       " ('V230', 0),\n",
       " ('V231', 0),\n",
       " ('V232', 0),\n",
       " ('V233', 0),\n",
       " ('V235', 0),\n",
       " ('V236', 0),\n",
       " ('V237', 0),\n",
       " ('V238', 0),\n",
       " ('V239', 0),\n",
       " ('V240', 0),\n",
       " ('V241', 0),\n",
       " ('V242', 0),\n",
       " ('V243', 0),\n",
       " ('V244', 0),\n",
       " ('V246', 0),\n",
       " ('V247', 0),\n",
       " ('V249', 0),\n",
       " ('V250', 0),\n",
       " ('V251', 0),\n",
       " ('V252', 0),\n",
       " ('V253', 0),\n",
       " ('V254', 0),\n",
       " ('V255', 0),\n",
       " ('V256', 0),\n",
       " ('V257', 0),\n",
       " ('V258', 0),\n",
       " ('V259', 0),\n",
       " ('V260', 0),\n",
       " ('V261', 0),\n",
       " ('V262', 0),\n",
       " ('V265', 0),\n",
       " ('V266', 0),\n",
       " ('V267', 0),\n",
       " ('V268', 0),\n",
       " ('V269', 0),\n",
       " ('V270', 0),\n",
       " ('V271', 0),\n",
       " ('V272', 0),\n",
       " ('V273', 0),\n",
       " ('V274', 0),\n",
       " ('V275', 0),\n",
       " ('V276', 0),\n",
       " ('V277', 0),\n",
       " ('V278', 0),\n",
       " ('V279', 0),\n",
       " ('V284', 0),\n",
       " ('V288', 0),\n",
       " ('V290', 0),\n",
       " ('V293', 0),\n",
       " ('V297', 0),\n",
       " ('V299', 0),\n",
       " ('V300', 0),\n",
       " ('V301', 0),\n",
       " ('V302', 0),\n",
       " ('V303', 0),\n",
       " ('V304', 0),\n",
       " ('V305', 0),\n",
       " ('V319', 0),\n",
       " ('V322', 0),\n",
       " ('V323', 0),\n",
       " ('V324', 0),\n",
       " ('V325', 0),\n",
       " ('V326', 0),\n",
       " ('V327', 0),\n",
       " ('V328', 0),\n",
       " ('V329', 0),\n",
       " ('V330', 0),\n",
       " ('V331', 0),\n",
       " ('V332', 0),\n",
       " ('V333', 0),\n",
       " ('V334', 0),\n",
       " ('V335', 0),\n",
       " ('V336', 0),\n",
       " ('V337', 0),\n",
       " ('V338', 0),\n",
       " ('V339', 0)]"
      ]
     },
     "execution_count": 294,
     "metadata": {},
     "output_type": "execute_result"
    }
   ],
   "source": [
    "a.sort(key=lambda x: x[1],reverse=True)\n",
    "a"
   ]
  },
  {
   "cell_type": "code",
   "execution_count": null,
   "metadata": {},
   "outputs": [],
   "source": []
  }
 ],
 "metadata": {
  "kernelspec": {
   "display_name": "Python 3",
   "language": "python",
   "name": "python3"
  },
  "language_info": {
   "codemirror_mode": {
    "name": "ipython",
    "version": 3
   },
   "file_extension": ".py",
   "mimetype": "text/x-python",
   "name": "python",
   "nbconvert_exporter": "python",
   "pygments_lexer": "ipython3",
   "version": "3.8.3"
  }
 },
 "nbformat": 4,
 "nbformat_minor": 4
}
